{
 "cells": [
  {
   "cell_type": "code",
   "execution_count": 8,
   "id": "50dd74f3-4bf4-4370-864b-d40e9777076a",
   "metadata": {},
   "outputs": [],
   "source": [
    "import numpy as np"
   ]
  },
  {
   "cell_type": "code",
   "execution_count": 9,
   "id": "4576d092-edb2-4222-ae4f-dd361ca3e82d",
   "metadata": {},
   "outputs": [],
   "source": [
    "def e_primo(n):\n",
    "  \"\"\"Returns True se n e' primo, False caso contrario.\"\"\"\n",
    "  if n <= 1:\n",
    "    return False\n",
    "  for i in range(2, int(n**0.5) + 1):\n",
    "    if n % i == 0:\n",
    "      return False\n",
    "  return True\n",
    "\n",
    "\n",
    "def primos_no_intervalo(a, b):\n",
    "  \"\"\"calcula primos\n",
    "\n",
    "  Args:\n",
    "      a (int): i_inicio do intervalo\n",
    "      b (int): tamanho do intervalo\n",
    "\n",
    "  Returns:\n",
    "      lista: primos no intervalo\n",
    "  \"\"\"  \n",
    "\n",
    "  primos = []\n",
    "  for i in range(a, a+ b + 1):\n",
    "    if e_primo(i):\n",
    "      primos.append(i)\n",
    "  return primos\n",
    "\n"
   ]
  },
  {
   "cell_type": "code",
   "execution_count": 10,
   "id": "298ee5a6-1ec1-4de5-b587-b0edc9eef47e",
   "metadata": {},
   "outputs": [
    {
     "name": "stdout",
     "output_type": "stream",
     "text": [
      "197 µs ± 6.09 µs per loop (mean ± std. dev. of 7 runs, 1,000 loops each)\n"
     ]
    }
   ],
   "source": [
    "%%timeit \n",
    "# Example usage:\n",
    "primos_no_intervalo(1_000_000, 100)"
   ]
  },
  {
   "cell_type": "code",
   "execution_count": 11,
   "id": "cbc9c04a-682b-4e71-9ca5-3864e4083438",
   "metadata": {},
   "outputs": [],
   "source": [
    "def ordena(lista):\n",
    "    N = len(lista)\n",
    "    if N > 0:\n",
    "        quick_sort(lista, 0, N - 1)\n",
    "        \n",
    "def quick_sort(lista, i_inicio, i_fim):\n",
    "    if i_inicio >= i_fim:\n",
    "        return\n",
    "    \n",
    "    i_anterior = i_inicio\n",
    "    i_posterior = i_fim\n",
    "    pivo = lista[i_inicio]\n",
    "\n",
    "    # [5,2,4,3,1]\n",
    "    # i_anterior = 0\n",
    "    # i_posterior = 4\n",
    "    # pivo = 5\n",
    "    while i_anterior < i_posterior:\n",
    "        # i_anterior = 0, i_posterior = 4\n",
    "\n",
    "        # encontra o primeiro elemento menor que o pivo\n",
    "        while i_anterior < i_posterior and lista[i_posterior] > pivo:\n",
    "            i_posterior -= 1\n",
    "        # lista[4] < lista[0] -> i_posterior = 3\n",
    "\n",
    "        if i_anterior < i_posterior:\n",
    "            lista[i_anterior] = lista[i_posterior]\n",
    "            i_anterior += 1\n",
    "        # lista[0] = 1, i_anterior=2, pivo=5\n",
    "        # [1,2,5,3,1] pivo=5\n",
    "\n",
    "        # encontra o primeiro elemento maior que o pivo\n",
    "        while i_anterior < i_posterior and lista[i_anterior] <= pivo:\n",
    "            i_anterior += 1\n",
    "        # todos sao menores que o pivo i_anterior = 4\n",
    "\n",
    "        #troca o elemento\n",
    "        if i_anterior < i_posterior:\n",
    "            lista[i_posterior] = lista[i_anterior]\n",
    "            i_posterior -= 1\n",
    "\n",
    "        lista[i_anterior] = pivo\n",
    "        # lista[4] = 5, i_anterior = 4, i_posterior = 3\n",
    "        # [1,2,4,3,5]\n",
    "\n",
    "    # sort(lista,0,3)\n",
    "    quick_sort(lista, i_inicio, i_anterior - 1)\n",
    "    # sort(lista,4,4)\n",
    "    quick_sort(lista, i_anterior + 1, i_fim)\n",
    "        "
   ]
  },
  {
   "cell_type": "code",
   "execution_count": 12,
   "id": "0d626db1",
   "metadata": {},
   "outputs": [
    {
     "name": "stdout",
     "output_type": "stream",
     "text": [
      "[0.31025653 0.36030191 0.20028101 0.61108299 0.58319736]\n",
      "[0.20028101 0.31025653 0.36030191 0.58319736 0.61108299]\n"
     ]
    }
   ],
   "source": [
    "a = np.random.rand(5)\n",
    "print(a)\n",
    "ordena(a)\n",
    "print(a)"
   ]
  },
  {
   "cell_type": "code",
   "execution_count": 13,
   "id": "292cf03d-016a-40e2-8298-3a597e4352ff",
   "metadata": {},
   "outputs": [
    {
     "name": "stdout",
     "output_type": "stream",
     "text": [
      "18.8 ms ± 75.7 µs per loop (mean ± std. dev. of 7 runs, 100 loops each)\n"
     ]
    }
   ],
   "source": [
    "%%timeit\n",
    "ordena(np.random.rand(10000))"
   ]
  },
  {
   "cell_type": "code",
   "execution_count": 14,
   "id": "9b3bbbdf-5d45-4fdc-bef5-407f20359578",
   "metadata": {},
   "outputs": [
    {
     "name": "stdout",
     "output_type": "stream",
     "text": [
      "462 µs ± 4.14 µs per loop (mean ± std. dev. of 7 runs, 1,000 loops each)\n"
     ]
    }
   ],
   "source": [
    "%%timeit\n",
    "a = np.random.rand(10000)\n",
    "np.sort(a, kind='mergesort')"
   ]
  },
  {
   "cell_type": "code",
   "execution_count": null,
   "id": "838ce94f",
   "metadata": {},
   "outputs": [],
   "source": [
    "range(2,10)"
   ]
  },
  {
   "cell_type": "code",
   "execution_count": null,
   "id": "085fc2eb",
   "metadata": {},
   "outputs": [],
   "source": []
  }
 ],
 "metadata": {
  "kernelspec": {
   "display_name": "Python 3 (ipykernel)",
   "language": "python",
   "name": "python3"
  },
  "language_info": {
   "codemirror_mode": {
    "name": "ipython",
    "version": 3
   },
   "file_extension": ".py",
   "mimetype": "text/x-python",
   "name": "python",
   "nbconvert_exporter": "python",
   "pygments_lexer": "ipython3",
   "version": "3.11.5"
  }
 },
 "nbformat": 4,
 "nbformat_minor": 5
}
