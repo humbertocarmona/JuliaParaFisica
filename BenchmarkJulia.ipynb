{
 "cells": [
  {
   "cell_type": "code",
   "execution_count": 18,
   "id": "8e1e1c0e-d919-477a-afbd-2920833c36e4",
   "metadata": {},
   "outputs": [],
   "source": [
    "using BenchmarkTools"
   ]
  },
  {
   "cell_type": "code",
   "execution_count": 10,
   "id": "a92678e9-7afc-43a3-a312-9e591dcbc27e",
   "metadata": {},
   "outputs": [
    {
     "data": {
      "text/plain": [
       "e_primo (generic function with 1 method)"
      ]
     },
     "execution_count": 10,
     "metadata": {},
     "output_type": "execute_result"
    }
   ],
   "source": [
    "function e_primo(n)\n",
    "  \"\"\"Returns True se n e' primo, False caso contrario.\"\"\"\n",
    "  if n <= 1\n",
    "    return false\n",
    "  end  \n",
    "  for i in range(2, Int(floor(n^0.5)) + 1)\n",
    "     if n % i == 0\n",
    "        return false\n",
    "     end\n",
    "   end\n",
    "  return true       \n",
    "end"
   ]
  },
  {
   "cell_type": "code",
   "execution_count": 12,
   "id": "2ccf33be-2b7f-4b9d-9de7-a9a8d54fa76a",
   "metadata": {},
   "outputs": [
    {
     "data": {
      "text/plain": [
       "true"
      ]
     },
     "execution_count": 12,
     "metadata": {},
     "output_type": "execute_result"
    }
   ],
   "source": [
    "e_primo(7)"
   ]
  },
  {
   "cell_type": "code",
   "execution_count": 13,
   "id": "8bcc4996-a803-4188-8f0e-ef795e777de8",
   "metadata": {},
   "outputs": [
    {
     "data": {
      "text/plain": [
       "primos_no_intervalo (generic function with 1 method)"
      ]
     },
     "execution_count": 13,
     "metadata": {},
     "output_type": "execute_result"
    }
   ],
   "source": [
    "function primos_no_intervalo(a, b)\n",
    "  \"\"\"calcula primos\n",
    "\n",
    "  Args:\n",
    "      a (int): i_inicio do intervalo\n",
    "      b (int): tamanho do intervalo\n",
    "\n",
    "  Returns:\n",
    "      lista: primos no intervalo\n",
    "  \"\"\"  \n",
    "\n",
    "  primos = []\n",
    "  for i in range(a, a+ b + 1)\n",
    "    if e_primo(i)\n",
    "      push!(primos,i)\n",
    "    end\n",
    "  end\n",
    "  return primos\n",
    "end"
   ]
  },
  {
   "cell_type": "code",
   "execution_count": 19,
   "id": "b69b38fa-44bd-4a81-b410-5ec56b60e894",
   "metadata": {},
   "outputs": [
    {
     "data": {
      "text/plain": [
       "BenchmarkTools.Trial: 10000 samples with 1 evaluation.\n",
       " Range \u001b[90m(\u001b[39m\u001b[36m\u001b[1mmin\u001b[22m\u001b[39m … \u001b[35mmax\u001b[39m\u001b[90m):  \u001b[39m\u001b[36m\u001b[1m14.206 μs\u001b[22m\u001b[39m … \u001b[35m167.943 μs\u001b[39m  \u001b[90m┊\u001b[39m GC \u001b[90m(\u001b[39mmin … max\u001b[90m): \u001b[39m0.00% … 0.00%\n",
       " Time  \u001b[90m(\u001b[39m\u001b[34m\u001b[1mmedian\u001b[22m\u001b[39m\u001b[90m):     \u001b[39m\u001b[34m\u001b[1m14.288 μs               \u001b[22m\u001b[39m\u001b[90m┊\u001b[39m GC \u001b[90m(\u001b[39mmedian\u001b[90m):    \u001b[39m0.00%\n",
       " Time  \u001b[90m(\u001b[39m\u001b[32m\u001b[1mmean\u001b[22m\u001b[39m ± \u001b[32mσ\u001b[39m\u001b[90m):   \u001b[39m\u001b[32m\u001b[1m14.521 μs\u001b[22m\u001b[39m ± \u001b[32m  2.217 μs\u001b[39m  \u001b[90m┊\u001b[39m GC \u001b[90m(\u001b[39mmean ± σ\u001b[90m):  \u001b[39m0.00% ± 0.00%\n",
       "\n",
       "  \u001b[39m▆\u001b[34m█\u001b[39m\u001b[39m▃\u001b[39m▁\u001b[39m▁\u001b[32m \u001b[39m\u001b[39m▂\u001b[39m▁\u001b[39m \u001b[39m \u001b[39m \u001b[39m \u001b[39m \u001b[39m \u001b[39m \u001b[39m \u001b[39m \u001b[39m \u001b[39m \u001b[39m \u001b[39m \u001b[39m \u001b[39m \u001b[39m \u001b[39m▃\u001b[39m \u001b[39m \u001b[39m \u001b[39m \u001b[39m \u001b[39m \u001b[39m \u001b[39m \u001b[39m \u001b[39m \u001b[39m \u001b[39m \u001b[39m \u001b[39m \u001b[39m \u001b[39m \u001b[39m \u001b[39m \u001b[39m \u001b[39m \u001b[39m \u001b[39m \u001b[39m \u001b[39m \u001b[39m \u001b[39m \u001b[39m \u001b[39m \u001b[39m \u001b[39m \u001b[39m \u001b[39m \u001b[39m \u001b[39m \u001b[39m \u001b[39m \u001b[39m▁\n",
       "  \u001b[39m█\u001b[34m█\u001b[39m\u001b[39m█\u001b[39m█\u001b[39m█\u001b[32m█\u001b[39m\u001b[39m█\u001b[39m█\u001b[39m▆\u001b[39m▅\u001b[39m▃\u001b[39m▅\u001b[39m▇\u001b[39m▄\u001b[39m▄\u001b[39m▄\u001b[39m▅\u001b[39m▅\u001b[39m█\u001b[39m▄\u001b[39m▅\u001b[39m▅\u001b[39m▅\u001b[39m█\u001b[39m█\u001b[39m█\u001b[39m▆\u001b[39m▆\u001b[39m▆\u001b[39m▆\u001b[39m▅\u001b[39m▆\u001b[39m▅\u001b[39m▅\u001b[39m▆\u001b[39m▆\u001b[39m▆\u001b[39m▅\u001b[39m▅\u001b[39m▅\u001b[39m▅\u001b[39m▅\u001b[39m▅\u001b[39m▅\u001b[39m▅\u001b[39m▆\u001b[39m▆\u001b[39m▁\u001b[39m▅\u001b[39m▅\u001b[39m▁\u001b[39m▅\u001b[39m█\u001b[39m▄\u001b[39m▃\u001b[39m▄\u001b[39m▄\u001b[39m▁\u001b[39m▄\u001b[39m▅\u001b[39m \u001b[39m█\n",
       "  14.2 μs\u001b[90m       \u001b[39m\u001b[90mHistogram: \u001b[39m\u001b[90m\u001b[1mlog(\u001b[22m\u001b[39m\u001b[90mfrequency\u001b[39m\u001b[90m\u001b[1m)\u001b[22m\u001b[39m\u001b[90m by time\u001b[39m      17.7 μs \u001b[0m\u001b[1m<\u001b[22m\n",
       "\n",
       " Memory estimate\u001b[90m: \u001b[39m\u001b[33m224 bytes\u001b[39m, allocs estimate\u001b[90m: \u001b[39m\u001b[33m8\u001b[39m."
      ]
     },
     "execution_count": 19,
     "metadata": {},
     "output_type": "execute_result"
    }
   ],
   "source": [
    "@benchmark primos_no_intervalo(1_000_000, 100)"
   ]
  },
  {
   "cell_type": "code",
   "execution_count": 20,
   "id": "7d71b786-f0ed-4f7c-bab6-b9e6c413e61d",
   "metadata": {},
   "outputs": [
    {
     "data": {
      "text/plain": [
       "13.571428571428571"
      ]
     },
     "execution_count": 20,
     "metadata": {},
     "output_type": "execute_result"
    }
   ],
   "source": [
    "190/14"
   ]
  },
  {
   "cell_type": "code",
   "execution_count": 28,
   "id": "155c1fc8-7746-46c4-b1be-5d5222784d9b",
   "metadata": {},
   "outputs": [
    {
     "data": {
      "text/plain": [
       "quick_sort! (generic function with 1 method)"
      ]
     },
     "execution_count": 28,
     "metadata": {},
     "output_type": "execute_result"
    }
   ],
   "source": [
    "function ordena(lista)\n",
    "    N = length(lista)\n",
    "    if N > 1\n",
    "        quick_sort!(lista, 1, N)\n",
    "    end\n",
    "end\n",
    "        \n",
    "function quick_sort!(lista, i_inicio, i_fim)\n",
    "    if i_inicio >= i_fim\n",
    "        return\n",
    "    end\n",
    "    \n",
    "    i_anterior = i_inicio\n",
    "    i_posterior = i_fim\n",
    "    pivo = lista[i_inicio]\n",
    "\n",
    "    # [5,2,4,3,1]\n",
    "    # i_anterior = 1\n",
    "    # i_posterior = 5\n",
    "    # pivo = 5\n",
    "    while i_anterior < i_posterior\n",
    "        # i_anterior = 0, i_posterior = 4\n",
    "\n",
    "        # encontra o primeiro elemento menor que o pivo\n",
    "        while i_anterior < i_posterior && lista[i_posterior] > pivo\n",
    "            i_posterior -= 1\n",
    "        end\n",
    "        # lista[4] < lista[0] -> i_posterior = 3\n",
    "\n",
    "        if i_anterior < i_posterior\n",
    "            lista[i_anterior] = lista[i_posterior]\n",
    "            i_anterior += 1\n",
    "        end\n",
    "        # lista[0] = 1, i_anterior=2, pivo=5\n",
    "        # [1,2,5,3,1] pivo=5\n",
    "\n",
    "        # encontra o primeiro elemento maior que o pivo\n",
    "        while i_anterior < i_posterior && lista[i_anterior] <= pivo\n",
    "            i_anterior += 1\n",
    "        end\n",
    "        # todos sao menores que o pivo i_anterior = 4\n",
    "\n",
    "        #troca o elemento\n",
    "        if i_anterior < i_posterior\n",
    "            lista[i_posterior] = lista[i_anterior]\n",
    "            i_posterior -= 1\n",
    "        end\n",
    "\n",
    "        lista[i_anterior] = pivo\n",
    "        # lista[4] = 5, i_anterior = 4, i_posterior = 3\n",
    "        # [1,2,4,3,5]\n",
    "    end\n",
    "    # sort(lista,0,3)\n",
    "    quick_sort!(lista, i_inicio, i_anterior - 1)\n",
    "    # sort(lista,4,4)\n",
    "    quick_sort!(lista, i_anterior + 1, i_fim)\n",
    "end\n",
    "        "
   ]
  },
  {
   "cell_type": "code",
   "execution_count": 29,
   "id": "a2e6070d-ada2-44ff-911d-678df32dfb14",
   "metadata": {},
   "outputs": [
    {
     "name": "stdout",
     "output_type": "stream",
     "text": [
      "[0.9406920219180214, 0.23689321536296892, 0.5288694661040672, 0.5418270033252096, 0.002549755192809755, 0.7641956930623959, 0.7796132100814611, 0.8485304782784968, 0.19902686747093046, 0.8807938339443939]\n",
      "[0.002549755192809755, 0.19902686747093046, 0.23689321536296892, 0.5288694661040672, 0.5418270033252096, 0.7641956930623959, 0.7796132100814611, 0.8485304782784968, 0.8807938339443939, 0.9406920219180214]\n"
     ]
    }
   ],
   "source": [
    "a = rand(10)\n",
    "println(a)\n",
    "ordena(a)\n",
    "println(a)"
   ]
  },
  {
   "cell_type": "code",
   "execution_count": 32,
   "id": "c8fb6625-362a-4845-aec2-b5c1b73ce6b1",
   "metadata": {},
   "outputs": [
    {
     "data": {
      "text/plain": [
       "BenchmarkTools.Trial: 9348 samples with 1 evaluation.\n",
       " Range \u001b[90m(\u001b[39m\u001b[36m\u001b[1mmin\u001b[22m\u001b[39m … \u001b[35mmax\u001b[39m\u001b[90m):  \u001b[39m\u001b[36m\u001b[1m466.394 μs\u001b[22m\u001b[39m … \u001b[35m 1.984 ms\u001b[39m  \u001b[90m┊\u001b[39m GC \u001b[90m(\u001b[39mmin … max\u001b[90m): \u001b[39m0.00% … 50.69%\n",
       " Time  \u001b[90m(\u001b[39m\u001b[34m\u001b[1mmedian\u001b[22m\u001b[39m\u001b[90m):     \u001b[39m\u001b[34m\u001b[1m507.239 μs              \u001b[22m\u001b[39m\u001b[90m┊\u001b[39m GC \u001b[90m(\u001b[39mmedian\u001b[90m):    \u001b[39m0.00%\n",
       " Time  \u001b[90m(\u001b[39m\u001b[32m\u001b[1mmean\u001b[22m\u001b[39m ± \u001b[32mσ\u001b[39m\u001b[90m):   \u001b[39m\u001b[32m\u001b[1m533.523 μs\u001b[22m\u001b[39m ± \u001b[32m86.681 μs\u001b[39m  \u001b[90m┊\u001b[39m GC \u001b[90m(\u001b[39mmean ± σ\u001b[90m):  \u001b[39m0.31% ±  2.43%\n",
       "\n",
       "  \u001b[39m \u001b[39m▄\u001b[39m▆\u001b[39m█\u001b[39m█\u001b[39m▇\u001b[34m▇\u001b[39m\u001b[39m▆\u001b[39m▆\u001b[39m▅\u001b[32m▅\u001b[39m\u001b[39m▅\u001b[39m▄\u001b[39m▄\u001b[39m▄\u001b[39m▃\u001b[39m▃\u001b[39m▃\u001b[39m▂\u001b[39m▁\u001b[39m▁\u001b[39m▂\u001b[39m \u001b[39m▁\u001b[39m▁\u001b[39m \u001b[39m \u001b[39m \u001b[39m \u001b[39m \u001b[39m \u001b[39m \u001b[39m \u001b[39m \u001b[39m \u001b[39m \u001b[39m \u001b[39m \u001b[39m \u001b[39m \u001b[39m \u001b[39m \u001b[39m \u001b[39m \u001b[39m \u001b[39m \u001b[39m \u001b[39m \u001b[39m \u001b[39m \u001b[39m \u001b[39m \u001b[39m \u001b[39m \u001b[39m \u001b[39m \u001b[39m \u001b[39m \u001b[39m \u001b[39m \u001b[39m \u001b[39m▂\n",
       "  \u001b[39m▇\u001b[39m█\u001b[39m█\u001b[39m█\u001b[39m█\u001b[39m█\u001b[34m█\u001b[39m\u001b[39m█\u001b[39m█\u001b[39m█\u001b[32m█\u001b[39m\u001b[39m█\u001b[39m█\u001b[39m█\u001b[39m█\u001b[39m█\u001b[39m█\u001b[39m█\u001b[39m█\u001b[39m█\u001b[39m█\u001b[39m█\u001b[39m█\u001b[39m█\u001b[39m█\u001b[39m█\u001b[39m█\u001b[39m█\u001b[39m█\u001b[39m█\u001b[39m▇\u001b[39m▇\u001b[39m█\u001b[39m▇\u001b[39m▇\u001b[39m█\u001b[39m▇\u001b[39m█\u001b[39m▇\u001b[39m▇\u001b[39m█\u001b[39m▇\u001b[39m▇\u001b[39m█\u001b[39m█\u001b[39m▆\u001b[39m▇\u001b[39m▇\u001b[39m▇\u001b[39m▆\u001b[39m▇\u001b[39m▆\u001b[39m▇\u001b[39m▆\u001b[39m▇\u001b[39m▆\u001b[39m▄\u001b[39m▆\u001b[39m▇\u001b[39m▅\u001b[39m \u001b[39m█\n",
       "  466 μs\u001b[90m        \u001b[39m\u001b[90mHistogram: \u001b[39m\u001b[90m\u001b[1mlog(\u001b[22m\u001b[39m\u001b[90mfrequency\u001b[39m\u001b[90m\u001b[1m)\u001b[22m\u001b[39m\u001b[90m by time\u001b[39m       857 μs \u001b[0m\u001b[1m<\u001b[22m\n",
       "\n",
       " Memory estimate\u001b[90m: \u001b[39m\u001b[33m78.17 KiB\u001b[39m, allocs estimate\u001b[90m: \u001b[39m\u001b[33m2\u001b[39m."
      ]
     },
     "execution_count": 32,
     "metadata": {},
     "output_type": "execute_result"
    }
   ],
   "source": [
    "@benchmark ordena(rand(10000))"
   ]
  },
  {
   "cell_type": "code",
   "execution_count": 31,
   "id": "4cc9163e-b899-4b04-af7f-511c91d6fa73",
   "metadata": {},
   "outputs": [
    {
     "data": {
      "text/plain": [
       "37.6"
      ]
     },
     "execution_count": 31,
     "metadata": {},
     "output_type": "execute_result"
    }
   ],
   "source": [
    "18.8/0.5"
   ]
  },
  {
   "cell_type": "code",
   "execution_count": null,
   "id": "471fbee8-5d7d-4c03-b6f5-9b34a4197751",
   "metadata": {},
   "outputs": [],
   "source": []
  }
 ],
 "metadata": {
  "kernelspec": {
   "display_name": "Julia 1.9.2",
   "language": "julia",
   "name": "julia-1.9"
  },
  "language_info": {
   "file_extension": ".jl",
   "mimetype": "application/julia",
   "name": "julia",
   "version": "1.9.3"
  }
 },
 "nbformat": 4,
 "nbformat_minor": 5
}
